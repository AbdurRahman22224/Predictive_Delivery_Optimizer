{
  "nbformat": 4,
  "nbformat_minor": 0,
  "metadata": {
    "colab": {
      "provenance": []
    },
    "kernelspec": {
      "name": "python3",
      "display_name": "Python 3"
    },
    "language_info": {
      "name": "python"
    }
  },
  "cells": [
    {
      "cell_type": "code",
      "execution_count": 3,
      "metadata": {
        "colab": {
          "base_uri": "https://localhost:8080/",
          "height": 281
        },
        "id": "IqAfTcxe6ZW7",
        "outputId": "2efaca3a-fac3-4cbd-93fc-37c4524cd7c5"
      },
      "outputs": [
        {
          "output_type": "stream",
          "name": "stdout",
          "text": [
            "Shapes: (150, 8) (200, 9) (150, 7)\n",
            "Merged shape: (150, 22)\n"
          ]
        },
        {
          "output_type": "execute_result",
          "data": {
            "text/plain": [
              "    Order_ID          Carrier  Promised_Delivery_Days  Actual_Delivery_Days  \\\n",
              "0  ORD000001  SpeedyLogistics                       1                     2   \n",
              "1  ORD000002  SpeedyLogistics                       2                     3   \n",
              "2  ORD000003  SpeedyLogistics                      10                    15   \n",
              "\n",
              "    Delivery_Status Quality_Issue  Customer_Rating  Delivery_Cost_INR  \\\n",
              "0  Slightly-Delayed       Perfect                3             387.86   \n",
              "1  Slightly-Delayed  Minor_Damage                1             430.19   \n",
              "2  Severely-Delayed  Minor_Damage                3            1039.19   \n",
              "\n",
              "   Order_Date Customer_Segment  ... Order_Value_INR     Origin  Destination  \\\n",
              "0  2025-10-09       Individual  ...          238.73    Kolkata    Hyderabad   \n",
              "1  2025-09-29              SMB  ...           17.01  Hyderabad      Kolkata   \n",
              "2  2025-09-15              SMB  ...         3024.95     Mumbai         Pune   \n",
              "\n",
              "  Special_Handling              Route Distance_KM Fuel_Consumption_L  \\\n",
              "0              NaN  Kolkata-Hyderabad      152.59              23.02   \n",
              "1              NaN  Hyderabad-Kolkata      362.05              43.98   \n",
              "2              NaN        Mumbai-Pune      519.74              65.75   \n",
              "\n",
              "   Toll_Charges_INR  Traffic_Delay_Minutes  Weather_Impact  \n",
              "0            122.08                     21             NaN  \n",
              "1            289.64                     33             NaN  \n",
              "2            415.79                      2             NaN  \n",
              "\n",
              "[3 rows x 22 columns]"
            ],
            "text/html": [
              "\n",
              "  <div id=\"df-0c2723a1-2141-4df4-bb22-21698129c997\" class=\"colab-df-container\">\n",
              "    <div>\n",
              "<style scoped>\n",
              "    .dataframe tbody tr th:only-of-type {\n",
              "        vertical-align: middle;\n",
              "    }\n",
              "\n",
              "    .dataframe tbody tr th {\n",
              "        vertical-align: top;\n",
              "    }\n",
              "\n",
              "    .dataframe thead th {\n",
              "        text-align: right;\n",
              "    }\n",
              "</style>\n",
              "<table border=\"1\" class=\"dataframe\">\n",
              "  <thead>\n",
              "    <tr style=\"text-align: right;\">\n",
              "      <th></th>\n",
              "      <th>Order_ID</th>\n",
              "      <th>Carrier</th>\n",
              "      <th>Promised_Delivery_Days</th>\n",
              "      <th>Actual_Delivery_Days</th>\n",
              "      <th>Delivery_Status</th>\n",
              "      <th>Quality_Issue</th>\n",
              "      <th>Customer_Rating</th>\n",
              "      <th>Delivery_Cost_INR</th>\n",
              "      <th>Order_Date</th>\n",
              "      <th>Customer_Segment</th>\n",
              "      <th>...</th>\n",
              "      <th>Order_Value_INR</th>\n",
              "      <th>Origin</th>\n",
              "      <th>Destination</th>\n",
              "      <th>Special_Handling</th>\n",
              "      <th>Route</th>\n",
              "      <th>Distance_KM</th>\n",
              "      <th>Fuel_Consumption_L</th>\n",
              "      <th>Toll_Charges_INR</th>\n",
              "      <th>Traffic_Delay_Minutes</th>\n",
              "      <th>Weather_Impact</th>\n",
              "    </tr>\n",
              "  </thead>\n",
              "  <tbody>\n",
              "    <tr>\n",
              "      <th>0</th>\n",
              "      <td>ORD000001</td>\n",
              "      <td>SpeedyLogistics</td>\n",
              "      <td>1</td>\n",
              "      <td>2</td>\n",
              "      <td>Slightly-Delayed</td>\n",
              "      <td>Perfect</td>\n",
              "      <td>3</td>\n",
              "      <td>387.86</td>\n",
              "      <td>2025-10-09</td>\n",
              "      <td>Individual</td>\n",
              "      <td>...</td>\n",
              "      <td>238.73</td>\n",
              "      <td>Kolkata</td>\n",
              "      <td>Hyderabad</td>\n",
              "      <td>NaN</td>\n",
              "      <td>Kolkata-Hyderabad</td>\n",
              "      <td>152.59</td>\n",
              "      <td>23.02</td>\n",
              "      <td>122.08</td>\n",
              "      <td>21</td>\n",
              "      <td>NaN</td>\n",
              "    </tr>\n",
              "    <tr>\n",
              "      <th>1</th>\n",
              "      <td>ORD000002</td>\n",
              "      <td>SpeedyLogistics</td>\n",
              "      <td>2</td>\n",
              "      <td>3</td>\n",
              "      <td>Slightly-Delayed</td>\n",
              "      <td>Minor_Damage</td>\n",
              "      <td>1</td>\n",
              "      <td>430.19</td>\n",
              "      <td>2025-09-29</td>\n",
              "      <td>SMB</td>\n",
              "      <td>...</td>\n",
              "      <td>17.01</td>\n",
              "      <td>Hyderabad</td>\n",
              "      <td>Kolkata</td>\n",
              "      <td>NaN</td>\n",
              "      <td>Hyderabad-Kolkata</td>\n",
              "      <td>362.05</td>\n",
              "      <td>43.98</td>\n",
              "      <td>289.64</td>\n",
              "      <td>33</td>\n",
              "      <td>NaN</td>\n",
              "    </tr>\n",
              "    <tr>\n",
              "      <th>2</th>\n",
              "      <td>ORD000003</td>\n",
              "      <td>SpeedyLogistics</td>\n",
              "      <td>10</td>\n",
              "      <td>15</td>\n",
              "      <td>Severely-Delayed</td>\n",
              "      <td>Minor_Damage</td>\n",
              "      <td>3</td>\n",
              "      <td>1039.19</td>\n",
              "      <td>2025-09-15</td>\n",
              "      <td>SMB</td>\n",
              "      <td>...</td>\n",
              "      <td>3024.95</td>\n",
              "      <td>Mumbai</td>\n",
              "      <td>Pune</td>\n",
              "      <td>NaN</td>\n",
              "      <td>Mumbai-Pune</td>\n",
              "      <td>519.74</td>\n",
              "      <td>65.75</td>\n",
              "      <td>415.79</td>\n",
              "      <td>2</td>\n",
              "      <td>NaN</td>\n",
              "    </tr>\n",
              "  </tbody>\n",
              "</table>\n",
              "<p>3 rows × 22 columns</p>\n",
              "</div>\n",
              "    <div class=\"colab-df-buttons\">\n",
              "\n",
              "  <div class=\"colab-df-container\">\n",
              "    <button class=\"colab-df-convert\" onclick=\"convertToInteractive('df-0c2723a1-2141-4df4-bb22-21698129c997')\"\n",
              "            title=\"Convert this dataframe to an interactive table.\"\n",
              "            style=\"display:none;\">\n",
              "\n",
              "  <svg xmlns=\"http://www.w3.org/2000/svg\" height=\"24px\" viewBox=\"0 -960 960 960\">\n",
              "    <path d=\"M120-120v-720h720v720H120Zm60-500h600v-160H180v160Zm220 220h160v-160H400v160Zm0 220h160v-160H400v160ZM180-400h160v-160H180v160Zm440 0h160v-160H620v160ZM180-180h160v-160H180v160Zm440 0h160v-160H620v160Z\"/>\n",
              "  </svg>\n",
              "    </button>\n",
              "\n",
              "  <style>\n",
              "    .colab-df-container {\n",
              "      display:flex;\n",
              "      gap: 12px;\n",
              "    }\n",
              "\n",
              "    .colab-df-convert {\n",
              "      background-color: #E8F0FE;\n",
              "      border: none;\n",
              "      border-radius: 50%;\n",
              "      cursor: pointer;\n",
              "      display: none;\n",
              "      fill: #1967D2;\n",
              "      height: 32px;\n",
              "      padding: 0 0 0 0;\n",
              "      width: 32px;\n",
              "    }\n",
              "\n",
              "    .colab-df-convert:hover {\n",
              "      background-color: #E2EBFA;\n",
              "      box-shadow: 0px 1px 2px rgba(60, 64, 67, 0.3), 0px 1px 3px 1px rgba(60, 64, 67, 0.15);\n",
              "      fill: #174EA6;\n",
              "    }\n",
              "\n",
              "    .colab-df-buttons div {\n",
              "      margin-bottom: 4px;\n",
              "    }\n",
              "\n",
              "    [theme=dark] .colab-df-convert {\n",
              "      background-color: #3B4455;\n",
              "      fill: #D2E3FC;\n",
              "    }\n",
              "\n",
              "    [theme=dark] .colab-df-convert:hover {\n",
              "      background-color: #434B5C;\n",
              "      box-shadow: 0px 1px 3px 1px rgba(0, 0, 0, 0.15);\n",
              "      filter: drop-shadow(0px 1px 2px rgba(0, 0, 0, 0.3));\n",
              "      fill: #FFFFFF;\n",
              "    }\n",
              "  </style>\n",
              "\n",
              "    <script>\n",
              "      const buttonEl =\n",
              "        document.querySelector('#df-0c2723a1-2141-4df4-bb22-21698129c997 button.colab-df-convert');\n",
              "      buttonEl.style.display =\n",
              "        google.colab.kernel.accessAllowed ? 'block' : 'none';\n",
              "\n",
              "      async function convertToInteractive(key) {\n",
              "        const element = document.querySelector('#df-0c2723a1-2141-4df4-bb22-21698129c997');\n",
              "        const dataTable =\n",
              "          await google.colab.kernel.invokeFunction('convertToInteractive',\n",
              "                                                    [key], {});\n",
              "        if (!dataTable) return;\n",
              "\n",
              "        const docLinkHtml = 'Like what you see? Visit the ' +\n",
              "          '<a target=\"_blank\" href=https://colab.research.google.com/notebooks/data_table.ipynb>data table notebook</a>'\n",
              "          + ' to learn more about interactive tables.';\n",
              "        element.innerHTML = '';\n",
              "        dataTable['output_type'] = 'display_data';\n",
              "        await google.colab.output.renderOutput(dataTable, element);\n",
              "        const docLink = document.createElement('div');\n",
              "        docLink.innerHTML = docLinkHtml;\n",
              "        element.appendChild(docLink);\n",
              "      }\n",
              "    </script>\n",
              "  </div>\n",
              "\n",
              "\n",
              "    <div id=\"df-a8811471-9505-47d6-810e-af3a24c9f578\">\n",
              "      <button class=\"colab-df-quickchart\" onclick=\"quickchart('df-a8811471-9505-47d6-810e-af3a24c9f578')\"\n",
              "                title=\"Suggest charts\"\n",
              "                style=\"display:none;\">\n",
              "\n",
              "<svg xmlns=\"http://www.w3.org/2000/svg\" height=\"24px\"viewBox=\"0 0 24 24\"\n",
              "     width=\"24px\">\n",
              "    <g>\n",
              "        <path d=\"M19 3H5c-1.1 0-2 .9-2 2v14c0 1.1.9 2 2 2h14c1.1 0 2-.9 2-2V5c0-1.1-.9-2-2-2zM9 17H7v-7h2v7zm4 0h-2V7h2v10zm4 0h-2v-4h2v4z\"/>\n",
              "    </g>\n",
              "</svg>\n",
              "      </button>\n",
              "\n",
              "<style>\n",
              "  .colab-df-quickchart {\n",
              "      --bg-color: #E8F0FE;\n",
              "      --fill-color: #1967D2;\n",
              "      --hover-bg-color: #E2EBFA;\n",
              "      --hover-fill-color: #174EA6;\n",
              "      --disabled-fill-color: #AAA;\n",
              "      --disabled-bg-color: #DDD;\n",
              "  }\n",
              "\n",
              "  [theme=dark] .colab-df-quickchart {\n",
              "      --bg-color: #3B4455;\n",
              "      --fill-color: #D2E3FC;\n",
              "      --hover-bg-color: #434B5C;\n",
              "      --hover-fill-color: #FFFFFF;\n",
              "      --disabled-bg-color: #3B4455;\n",
              "      --disabled-fill-color: #666;\n",
              "  }\n",
              "\n",
              "  .colab-df-quickchart {\n",
              "    background-color: var(--bg-color);\n",
              "    border: none;\n",
              "    border-radius: 50%;\n",
              "    cursor: pointer;\n",
              "    display: none;\n",
              "    fill: var(--fill-color);\n",
              "    height: 32px;\n",
              "    padding: 0;\n",
              "    width: 32px;\n",
              "  }\n",
              "\n",
              "  .colab-df-quickchart:hover {\n",
              "    background-color: var(--hover-bg-color);\n",
              "    box-shadow: 0 1px 2px rgba(60, 64, 67, 0.3), 0 1px 3px 1px rgba(60, 64, 67, 0.15);\n",
              "    fill: var(--button-hover-fill-color);\n",
              "  }\n",
              "\n",
              "  .colab-df-quickchart-complete:disabled,\n",
              "  .colab-df-quickchart-complete:disabled:hover {\n",
              "    background-color: var(--disabled-bg-color);\n",
              "    fill: var(--disabled-fill-color);\n",
              "    box-shadow: none;\n",
              "  }\n",
              "\n",
              "  .colab-df-spinner {\n",
              "    border: 2px solid var(--fill-color);\n",
              "    border-color: transparent;\n",
              "    border-bottom-color: var(--fill-color);\n",
              "    animation:\n",
              "      spin 1s steps(1) infinite;\n",
              "  }\n",
              "\n",
              "  @keyframes spin {\n",
              "    0% {\n",
              "      border-color: transparent;\n",
              "      border-bottom-color: var(--fill-color);\n",
              "      border-left-color: var(--fill-color);\n",
              "    }\n",
              "    20% {\n",
              "      border-color: transparent;\n",
              "      border-left-color: var(--fill-color);\n",
              "      border-top-color: var(--fill-color);\n",
              "    }\n",
              "    30% {\n",
              "      border-color: transparent;\n",
              "      border-left-color: var(--fill-color);\n",
              "      border-top-color: var(--fill-color);\n",
              "      border-right-color: var(--fill-color);\n",
              "    }\n",
              "    40% {\n",
              "      border-color: transparent;\n",
              "      border-right-color: var(--fill-color);\n",
              "      border-top-color: var(--fill-color);\n",
              "    }\n",
              "    60% {\n",
              "      border-color: transparent;\n",
              "      border-right-color: var(--fill-color);\n",
              "    }\n",
              "    80% {\n",
              "      border-color: transparent;\n",
              "      border-right-color: var(--fill-color);\n",
              "      border-bottom-color: var(--fill-color);\n",
              "    }\n",
              "    90% {\n",
              "      border-color: transparent;\n",
              "      border-bottom-color: var(--fill-color);\n",
              "    }\n",
              "  }\n",
              "</style>\n",
              "\n",
              "      <script>\n",
              "        async function quickchart(key) {\n",
              "          const quickchartButtonEl =\n",
              "            document.querySelector('#' + key + ' button');\n",
              "          quickchartButtonEl.disabled = true;  // To prevent multiple clicks.\n",
              "          quickchartButtonEl.classList.add('colab-df-spinner');\n",
              "          try {\n",
              "            const charts = await google.colab.kernel.invokeFunction(\n",
              "                'suggestCharts', [key], {});\n",
              "          } catch (error) {\n",
              "            console.error('Error during call to suggestCharts:', error);\n",
              "          }\n",
              "          quickchartButtonEl.classList.remove('colab-df-spinner');\n",
              "          quickchartButtonEl.classList.add('colab-df-quickchart-complete');\n",
              "        }\n",
              "        (() => {\n",
              "          let quickchartButtonEl =\n",
              "            document.querySelector('#df-a8811471-9505-47d6-810e-af3a24c9f578 button');\n",
              "          quickchartButtonEl.style.display =\n",
              "            google.colab.kernel.accessAllowed ? 'block' : 'none';\n",
              "        })();\n",
              "      </script>\n",
              "    </div>\n",
              "\n",
              "    </div>\n",
              "  </div>\n"
            ],
            "application/vnd.google.colaboratory.intrinsic+json": {
              "type": "dataframe",
              "variable_name": "df_merged"
            }
          },
          "metadata": {},
          "execution_count": 3
        }
      ],
      "source": [
        "import pandas as pd\n",
        "from pathlib import Path\n",
        "\n",
        "\n",
        "# file paths (change names/paths if different)\n",
        "fp_delivery = \"delivery_performance.csv\"\n",
        "fp_orders =  \"orders.csv\"\n",
        "fp_routes =  \"routes_distance.csv\"\n",
        "\n",
        "\n",
        "# read CSVs\n",
        "df_delivery = pd.read_csv(fp_delivery)\n",
        "df_orders = pd.read_csv(fp_orders)\n",
        "df_routes = pd.read_csv(fp_routes)\n",
        "\n",
        "print(\"Shapes:\", df_delivery.shape, df_orders.shape, df_routes.shape)\n",
        "\n",
        "# merge step-by-step (inner join to keep only orders present across all files)\n",
        "mask = df_delivery.merge(df_orders, on=\"Order_ID\", how=\"inner\")\n",
        "df_merged = mask.merge(df_routes, on=\"Order_ID\", how=\"inner\")\n",
        "\n",
        "print(\"Merged shape:\", df_merged.shape)\n",
        "df_merged.head(3)\n"
      ]
    },
    {
      "cell_type": "code",
      "source": [
        "df_merged.to_csv('final_OFI_df.csv', index=False)"
      ],
      "metadata": {
        "id": "qNze2fgMA7x3"
      },
      "execution_count": 15,
      "outputs": []
    },
    {
      "cell_type": "code",
      "source": [
        "df_merged.info()"
      ],
      "metadata": {
        "colab": {
          "base_uri": "https://localhost:8080/"
        },
        "id": "f2_NUu5R8-_-",
        "outputId": "ead98c0d-a928-4ab2-c5c0-608fabe57252"
      },
      "execution_count": 4,
      "outputs": [
        {
          "output_type": "stream",
          "name": "stdout",
          "text": [
            "<class 'pandas.core.frame.DataFrame'>\n",
            "RangeIndex: 150 entries, 0 to 149\n",
            "Data columns (total 22 columns):\n",
            " #   Column                  Non-Null Count  Dtype  \n",
            "---  ------                  --------------  -----  \n",
            " 0   Order_ID                150 non-null    object \n",
            " 1   Carrier                 150 non-null    object \n",
            " 2   Promised_Delivery_Days  150 non-null    int64  \n",
            " 3   Actual_Delivery_Days    150 non-null    int64  \n",
            " 4   Delivery_Status         150 non-null    object \n",
            " 5   Quality_Issue           150 non-null    object \n",
            " 6   Customer_Rating         150 non-null    int64  \n",
            " 7   Delivery_Cost_INR       150 non-null    float64\n",
            " 8   Order_Date              150 non-null    object \n",
            " 9   Customer_Segment        150 non-null    object \n",
            " 10  Priority                150 non-null    object \n",
            " 11  Product_Category        150 non-null    object \n",
            " 12  Order_Value_INR         150 non-null    float64\n",
            " 13  Origin                  150 non-null    object \n",
            " 14  Destination             150 non-null    object \n",
            " 15  Special_Handling        35 non-null     object \n",
            " 16  Route                   150 non-null    object \n",
            " 17  Distance_KM             150 non-null    float64\n",
            " 18  Fuel_Consumption_L      150 non-null    float64\n",
            " 19  Toll_Charges_INR        150 non-null    float64\n",
            " 20  Traffic_Delay_Minutes   150 non-null    int64  \n",
            " 21  Weather_Impact          44 non-null     object \n",
            "dtypes: float64(5), int64(4), object(13)\n",
            "memory usage: 25.9+ KB\n"
          ]
        }
      ]
    },
    {
      "cell_type": "code",
      "source": [
        "df = df_merged.copy()\n",
        "df['delay_days'] = df['Actual_Delivery_Days'] - df['Promised_Delivery_Days']\n",
        "df['delay_days'].isnull().sum()"
      ],
      "metadata": {
        "colab": {
          "base_uri": "https://localhost:8080/"
        },
        "id": "n111tdtS9gYm",
        "outputId": "2694aaba-df91-444a-8c89-a87b76d557f7"
      },
      "execution_count": 9,
      "outputs": [
        {
          "output_type": "execute_result",
          "data": {
            "text/plain": [
              "np.int64(0)"
            ]
          },
          "metadata": {},
          "execution_count": 9
        }
      ]
    },
    {
      "cell_type": "code",
      "source": [
        "df[\"is_delayed\"] = df[\"delay_days\"].apply(lambda x: 1 if pd.notna(x) and x > 0 else 0)"
      ],
      "metadata": {
        "id": "yFBDbeWm-Cri"
      },
      "execution_count": 10,
      "outputs": []
    },
    {
      "cell_type": "code",
      "source": [
        "from sklearn.model_selection import train_test_split\n",
        "import joblib\n",
        "RANDOM_SEED = 42\n",
        "\n",
        "# keep only rows with label available for supervised training\n",
        "df_train = df[df[\"Actual_Delivery_Days\"].notna()].copy()\n",
        "print(\"Rows with known actual delivery:\", len(df_train))\n",
        "\n",
        "# For simplicity pick a subset of features for now\n",
        "features = [\"Carrier\", \"Promised_Delivery_Days\", \"Distance_KM\", \"Delivery_Cost_INR\", \"Traffic_Delay_Minutes\", \"Priority\"]\n",
        "target = \"is_delayed\"\n",
        "\n",
        "# simple split\n",
        "X = df_train[features]\n",
        "y = df_train[target]\n",
        "X_train, X_test, y_train, y_test = train_test_split(X, y, test_size=0.2, stratify=y, random_state=RANDOM_SEED)\n",
        "print(\"Train/Test sizes:\", X_train.shape, X_test.shape)\n"
      ],
      "metadata": {
        "colab": {
          "base_uri": "https://localhost:8080/"
        },
        "id": "ptyLlR3p-ym3",
        "outputId": "50929b83-b91e-4362-a283-76832150d010"
      },
      "execution_count": 11,
      "outputs": [
        {
          "output_type": "stream",
          "name": "stdout",
          "text": [
            "Rows with known actual delivery: 150\n",
            "Train/Test sizes: (120, 6) (30, 6)\n"
          ]
        }
      ]
    },
    {
      "cell_type": "code",
      "source": [
        "import numpy as np\n",
        "from sklearn.preprocessing import StandardScaler, OneHotEncoder, OrdinalEncoder\n",
        "from sklearn.impute import SimpleImputer\n",
        "from sklearn.compose import ColumnTransformer\n",
        "from sklearn.pipeline import Pipeline\n",
        "\n",
        "drop_cols = [\"Route\", \"Origin\", \"Destination\", \"Customer_Segment\", \"Order_Date\", \"Special_Handling\"]\n",
        "# if df not defined in this cell, ensure you run the merge step before this cell\n",
        "try:\n",
        "    df = df.drop(columns=drop_cols, errors=\"ignore\")\n",
        "    print(\"Dropped columns (if present):\", drop_cols)\n",
        "except NameError:\n",
        "    print(\"Warning: df not found in scope. Make sure you run the data-merge cell before this one.\")\n",
        "\n",
        "numeric_feats = [\n",
        "    \"Promised_Delivery_Days\",\n",
        "    \"Order_Value_INR\",\n",
        "    \"Delivery_Cost_INR\",\n",
        "    \"Distance_KM\",\n",
        "    \"Fuel_Consumption_L\",\n",
        "    \"Toll_Charges_INR\"\n",
        "    # Excluded Traffic_Delay_Minutes (to avoid leakage)\n",
        "]\n",
        "\n",
        "categorical_ohe_feats = [\n",
        "    \"Carrier\",\n",
        "    \"Product_Category\"\n",
        "    # Removed Quality_Issue and Delivery_Status\n",
        "]\n",
        "\n",
        "# Ordinal categorical features: Priority and Weather_Impact\n",
        "categorical_ordinal_feats = [\"Priority\", \"Weather_Impact\"]\n",
        "\n",
        "# --------- Transformers ----------------------------------------------------\n",
        "# Numeric transformer: median impute + standard scale\n",
        "numeric_transformer = Pipeline(steps=[\n",
        "    (\"imputer\", SimpleImputer(strategy=\"median\")),\n",
        "    (\"scaler\", StandardScaler())\n",
        "])\n",
        "\n",
        "# One-hot transformer for nominal categorical variables\n",
        "cat_ohe_transformer = Pipeline(steps=[\n",
        "    (\"imputer\", SimpleImputer(strategy=\"constant\", fill_value=\"Unknown\")),\n",
        "    (\"ohe\", OneHotEncoder(handle_unknown=\"ignore\"))\n",
        "])\n",
        "\n",
        "# Ordinal transformers\n",
        "# Priority ordering: Economy < Standard < Express\n",
        "priority_categories = [[\"Economy\", \"Standard\", \"Express\", \"Unknown\"]]\n",
        "\n",
        "# Weather ordering: Unknown (blank) -> fog -> light_Rain -> Heavy_Rain\n",
        "# (assumes fog has lower impact than rain; adjust if you prefer a different order)\n",
        "weather_categories = [[\"Unknown\", \"Fog\", \"Light_Rain\", \"Heavy_Rain\"]]\n",
        "\n",
        "priority_transformer = Pipeline(steps=[\n",
        "    (\"imputer\", SimpleImputer(strategy=\"constant\", fill_value=\"Unknown\")),\n",
        "    (\"ordinal\", OrdinalEncoder(categories=priority_categories))\n",
        "])\n",
        "\n",
        "weather_transformer = Pipeline(steps=[\n",
        "    (\"imputer\", SimpleImputer(strategy=\"constant\", fill_value=\"Unknown\")),\n",
        "    (\"ordinal\", OrdinalEncoder(categories=weather_categories))\n",
        "])\n",
        "\n",
        "# Combine ordinal transformers into a small wrapper via ColumnTransformer for the two features\n",
        "# (we'll reference them separately in the main ColumnTransformer)\n",
        "ordinal_transformers = [\n",
        "    (\"priority_ord\", priority_transformer, [\"Priority\"]),\n",
        "    (\"weather_ord\", weather_transformer, [\"Weather_Impact\"])\n",
        "]\n",
        "\n",
        "# --------- Final ColumnTransformer ----------------------------------------\n",
        "preprocessor = ColumnTransformer(transformers=[\n",
        "    (\"num\", numeric_transformer, numeric_feats),\n",
        "    (\"cat_ohe\", cat_ohe_transformer, categorical_ohe_feats),\n",
        "    # add ordinal transformers individually\n",
        "    (\"priority_ord\", priority_transformer, [\"Priority\"]),\n",
        "    (\"weather_ord\", weather_transformer, [\"Weather_Impact\"])\n",
        "], remainder=\"drop\")\n",
        "\n",
        "print(\"Preprocessor created.\")\n",
        "print(\"Numeric features:\", numeric_feats)\n",
        "print(\"One-hot features:\", categorical_ohe_feats)\n",
        "print(\"Ordinal features: Priority ->\", priority_categories[0], \"; Weather ->\", weather_categories[0])"
      ],
      "metadata": {
        "colab": {
          "base_uri": "https://localhost:8080/"
        },
        "id": "hp6hCjsiAq5p",
        "outputId": "84a216dd-4b99-4f66-f963-286f331eafe1"
      },
      "execution_count": 33,
      "outputs": [
        {
          "output_type": "stream",
          "name": "stdout",
          "text": [
            "Dropped columns (if present): ['Route', 'Origin', 'Destination', 'Customer_Segment', 'Order_Date', 'Special_Handling']\n",
            "Preprocessor created.\n",
            "Numeric features: ['Promised_Delivery_Days', 'Order_Value_INR', 'Delivery_Cost_INR', 'Distance_KM', 'Fuel_Consumption_L', 'Toll_Charges_INR']\n",
            "One-hot features: ['Carrier', 'Product_Category']\n",
            "Ordinal features: Priority -> ['Economy', 'Standard', 'Express', 'Unknown'] ; Weather -> ['Unknown', 'Fog', 'Light_Rain', 'Heavy_Rain']\n"
          ]
        }
      ]
    },
    {
      "cell_type": "code",
      "source": [
        "df[\"Weather_Impact\"].unique()"
      ],
      "metadata": {
        "colab": {
          "base_uri": "https://localhost:8080/"
        },
        "id": "-U3JgwmSFq54",
        "outputId": "d2af4ec9-af59-4b58-9d8b-9aaf5e7170a8"
      },
      "execution_count": 34,
      "outputs": [
        {
          "output_type": "execute_result",
          "data": {
            "text/plain": [
              "array([nan, 'Light_Rain', 'Fog', 'Heavy_Rain'], dtype=object)"
            ]
          },
          "metadata": {},
          "execution_count": 34
        }
      ]
    },
    {
      "cell_type": "code",
      "source": [
        "from sklearn.model_selection import train_test_split\n",
        "\n",
        "# Drop columns user asked to remove if present\n",
        "drop_cols = [\"Route\", \"Origin\", \"Destination\", \"Customer_Segment\", \"Order_Date\", \"Special_Handling\"]\n",
        "df = df.drop(columns=[c for c in drop_cols if c in df.columns], errors=\"ignore\")\n",
        "\n",
        "# Exclude ID and target columns from features\n",
        "exclude_cols = {\"Order_ID\", \"delay_days\", \"is_delayed\", \"Actual_Delivery_Days\"}\n",
        "all_cols = df.columns.tolist()\n",
        "feature_candidates = [c for c in all_cols if c not in exclude_cols]\n",
        "\n",
        "# For safety, explicitly ensure our preprocessing columns exist (numeric_feats + categorical lists from previous preprocessor)\n",
        "# numeric_feats, categorical_ohe_feats etc. should exist from previous cell; if not, define a conservative subset:\n",
        "try:\n",
        "    feature_list = numeric_feats + categorical_ohe_feats + [\"Priority\", \"Weather_Impact\"]\n",
        "except NameError:\n",
        "    # fallback: auto-detect reasonable features\n",
        "    numeric_features_auto = df.select_dtypes(include=[np.number]).columns.tolist()\n",
        "    feature_list = [c for c in numeric_features_auto if c not in exclude_cols]\n",
        "    # add a few categorical candidates if present\n",
        "    for c in [\"Carrier\", \"Priority\", \"Product_Category\", \"Delivery_Status\", \"Quality_Issue\", \"Weather_Impact\"]:\n",
        "        if c in df.columns and c not in feature_list:\n",
        "            feature_list.append(c)\n",
        "\n",
        "# Final feature list: keep only present columns\n",
        "feature_list = [c for c in feature_list if c in df.columns]\n",
        "print(\"Using features:\", feature_list)\n",
        "\n",
        "# Create trainable subset (rows with known Actual_Delivery_Days)\n",
        "df_trainable = df[df[\"Actual_Delivery_Days\"].notna()].copy()\n",
        "X = df_trainable[feature_list]\n",
        "y = df_trainable[\"is_delayed\"]\n",
        "\n",
        "RANDOM_SEED = 42\n",
        "X_train, X_test, y_train, y_test = train_test_split(X, y, test_size=0.2, stratify=y, random_state=RANDOM_SEED)\n",
        "print(\"Train/test sizes:\", X_train.shape, X_test.shape)\n"
      ],
      "metadata": {
        "colab": {
          "base_uri": "https://localhost:8080/"
        },
        "id": "q7XQmVs3GZG7",
        "outputId": "85c3d072-9a4d-4e5a-b4f1-a0473f8549d2"
      },
      "execution_count": 35,
      "outputs": [
        {
          "output_type": "stream",
          "name": "stdout",
          "text": [
            "Using features: ['Promised_Delivery_Days', 'Order_Value_INR', 'Delivery_Cost_INR', 'Distance_KM', 'Fuel_Consumption_L', 'Toll_Charges_INR', 'Carrier', 'Product_Category', 'Priority', 'Weather_Impact']\n",
            "Train/test sizes: (120, 10) (30, 10)\n"
          ]
        }
      ]
    },
    {
      "cell_type": "code",
      "source": [
        "# Cell D: fit preprocessor (if not fitted) and train RandomForest in a Pipeline\n",
        "import joblib\n",
        "from sklearn.pipeline import Pipeline\n",
        "from sklearn.ensemble import RandomForestClassifier\n",
        "from sklearn.metrics import classification_report, roc_auc_score, confusion_matrix, accuracy_score\n",
        "\n",
        "\n",
        "# Build pipeline with RandomForest\n",
        "rf_pipeline = Pipeline(steps=[\n",
        "    (\"preprocessor\", preprocessor),\n",
        "    (\"classifier\", RandomForestClassifier(n_estimators=200, random_state=RANDOM_SEED, n_jobs=-1))\n",
        "])\n",
        "\n",
        "print(\"Training RandomForest pipeline...\")\n",
        "rf_pipeline.fit(X_train, y_train)\n",
        "\n",
        "# Evaluate on test set\n",
        "y_pred = rf_pipeline.predict(X_test)\n",
        "y_proba = rf_pipeline.predict_proba(X_test)[:, 1]\n",
        "print(\"RandomForest Classification report:\")\n",
        "print(classification_report(y_test, y_pred, digits=4))\n",
        "print(accuracy_score(y_test, y_pred))\n",
        "try:\n",
        "    roc = roc_auc_score(y_test, y_proba)\n",
        "    print(\"ROC-AUC:\", roc)\n",
        "except Exception as e:\n",
        "    print(\"ROC-AUC not available:\", e)\n",
        "\n",
        "# # Save the pipeline\n",
        "# rf_model_fp = processed_dir / \"rf_pipeline.joblib\"\n",
        "# joblib.dump(rf_pipeline, rf_model_fp)\n",
        "# print(\"Saved RandomForest pipeline to:\", rf_model_fp)\n"
      ],
      "metadata": {
        "colab": {
          "base_uri": "https://localhost:8080/"
        },
        "id": "wuO5-lFIHG8M",
        "outputId": "be65a70c-2da9-484f-aefd-fe499b7a2e3d"
      },
      "execution_count": 36,
      "outputs": [
        {
          "output_type": "stream",
          "name": "stdout",
          "text": [
            "Fitting preprocessor on training data...\n",
            "Training RandomForest pipeline...\n",
            "RandomForest Classification report:\n",
            "              precision    recall  f1-score   support\n",
            "\n",
            "           0     0.6667    0.6250    0.6452        16\n",
            "           1     0.6000    0.6429    0.6207        14\n",
            "\n",
            "    accuracy                         0.6333        30\n",
            "   macro avg     0.6333    0.6339    0.6329        30\n",
            "weighted avg     0.6356    0.6333    0.6337        30\n",
            "\n",
            "0.6333333333333333\n",
            "ROC-AUC: 0.6026785714285714\n"
          ]
        }
      ]
    },
    {
      "cell_type": "code",
      "source": [
        "!pip install catboost"
      ],
      "metadata": {
        "colab": {
          "base_uri": "https://localhost:8080/"
        },
        "collapsed": true,
        "id": "PVPV7fM5KHhf",
        "outputId": "eeffdbe5-4000-4b99-d79e-82890474de26"
      },
      "execution_count": 37,
      "outputs": [
        {
          "output_type": "stream",
          "name": "stdout",
          "text": [
            "Collecting catboost\n",
            "  Downloading catboost-1.2.8-cp312-cp312-manylinux2014_x86_64.whl.metadata (1.2 kB)\n",
            "Requirement already satisfied: graphviz in /usr/local/lib/python3.12/dist-packages (from catboost) (0.21)\n",
            "Requirement already satisfied: matplotlib in /usr/local/lib/python3.12/dist-packages (from catboost) (3.10.0)\n",
            "Requirement already satisfied: numpy<3.0,>=1.16.0 in /usr/local/lib/python3.12/dist-packages (from catboost) (2.0.2)\n",
            "Requirement already satisfied: pandas>=0.24 in /usr/local/lib/python3.12/dist-packages (from catboost) (2.2.2)\n",
            "Requirement already satisfied: scipy in /usr/local/lib/python3.12/dist-packages (from catboost) (1.16.2)\n",
            "Requirement already satisfied: plotly in /usr/local/lib/python3.12/dist-packages (from catboost) (5.24.1)\n",
            "Requirement already satisfied: six in /usr/local/lib/python3.12/dist-packages (from catboost) (1.17.0)\n",
            "Requirement already satisfied: python-dateutil>=2.8.2 in /usr/local/lib/python3.12/dist-packages (from pandas>=0.24->catboost) (2.9.0.post0)\n",
            "Requirement already satisfied: pytz>=2020.1 in /usr/local/lib/python3.12/dist-packages (from pandas>=0.24->catboost) (2025.2)\n",
            "Requirement already satisfied: tzdata>=2022.7 in /usr/local/lib/python3.12/dist-packages (from pandas>=0.24->catboost) (2025.2)\n",
            "Requirement already satisfied: contourpy>=1.0.1 in /usr/local/lib/python3.12/dist-packages (from matplotlib->catboost) (1.3.3)\n",
            "Requirement already satisfied: cycler>=0.10 in /usr/local/lib/python3.12/dist-packages (from matplotlib->catboost) (0.12.1)\n",
            "Requirement already satisfied: fonttools>=4.22.0 in /usr/local/lib/python3.12/dist-packages (from matplotlib->catboost) (4.60.1)\n",
            "Requirement already satisfied: kiwisolver>=1.3.1 in /usr/local/lib/python3.12/dist-packages (from matplotlib->catboost) (1.4.9)\n",
            "Requirement already satisfied: packaging>=20.0 in /usr/local/lib/python3.12/dist-packages (from matplotlib->catboost) (25.0)\n",
            "Requirement already satisfied: pillow>=8 in /usr/local/lib/python3.12/dist-packages (from matplotlib->catboost) (11.3.0)\n",
            "Requirement already satisfied: pyparsing>=2.3.1 in /usr/local/lib/python3.12/dist-packages (from matplotlib->catboost) (3.2.5)\n",
            "Requirement already satisfied: tenacity>=6.2.0 in /usr/local/lib/python3.12/dist-packages (from plotly->catboost) (8.5.0)\n",
            "Downloading catboost-1.2.8-cp312-cp312-manylinux2014_x86_64.whl (99.2 MB)\n",
            "\u001b[2K   \u001b[90m━━━━━━━━━━━━━━━━━━━━━━━━━━━━━━━━━━━━━━━━\u001b[0m \u001b[32m99.2/99.2 MB\u001b[0m \u001b[31m7.2 MB/s\u001b[0m eta \u001b[36m0:00:00\u001b[0m\n",
            "\u001b[?25hInstalling collected packages: catboost\n",
            "Successfully installed catboost-1.2.8\n"
          ]
        }
      ]
    },
    {
      "cell_type": "code",
      "source": [
        "# Cell E: Train CatBoost on transformed arrays (preprocessor -> raw arrays)\n",
        "from catboost import CatBoostClassifier\n",
        "\n",
        "# transform to numpy arrays (preprocessor outputs dense arrays due to sparse=False)\n",
        "X_train_trans = preprocessor.transform(X_train)\n",
        "X_test_trans = preprocessor.transform(X_test)\n",
        "\n",
        "# Train CatBoost on transformed arrays\n",
        "cb = CatBoostClassifier(iterations=500, learning_rate=0.05, depth=6, random_seed=RANDOM_SEED, verbose=0)\n",
        "print(\"Training CatBoost on preprocessed arrays (this may take a while)...\")\n",
        "cb.fit(X_train_trans, y_train)\n",
        "\n",
        "# Evaluate\n",
        "y_pred_cb = cb.predict(X_test_trans)\n",
        "y_proba_cb = cb.predict_proba(X_test_trans)[:, 1]\n",
        "from sklearn.metrics import precision_recall_fscore_support, accuracy_score\n",
        "prec, rec, f1, _ = precision_recall_fscore_support(y_test, y_pred_cb, average=\"binary\", zero_division=0)\n",
        "acc = accuracy_score(y_test, y_pred_cb)\n",
        "roc_cb = roc_auc_score(y_test, y_proba_cb)\n",
        "print(f\"CatBoost — acc: {acc:.4f}, prec: {prec:.4f}, rec: {rec:.4f}, f1: {f1:.4f}, roc_auc: {roc_cb:.4f}\")\n",
        "\n",
        "# Save CatBoost model (joblib for fallback)\n",
        "# cb_model_fp = processed_dir / \"catboost_model.cbm\"\n",
        "# cb.save_model(str(cb_model_fp))\n",
        "# print(\"Saved CatBoost model to:\", cb_model_fp)\n"
      ],
      "metadata": {
        "colab": {
          "base_uri": "https://localhost:8080/"
        },
        "id": "TWOra0SNHvkV",
        "outputId": "3c7267c1-9299-4c5e-9f71-6ef3e0094947"
      },
      "execution_count": 38,
      "outputs": [
        {
          "output_type": "stream",
          "name": "stdout",
          "text": [
            "Training CatBoost on preprocessed arrays (this may take a while)...\n",
            "CatBoost — acc: 0.7000, prec: 0.6667, rec: 0.7143, f1: 0.6897, roc_auc: 0.6875\n"
          ]
        }
      ]
    },
    {
      "cell_type": "code",
      "source": [
        "!pip install -q dagshub 'mlflow>=2,<3'"
      ],
      "metadata": {
        "id": "r1oQSAm3MRNM"
      },
      "execution_count": 47,
      "outputs": []
    },
    {
      "cell_type": "code",
      "source": [
        "import dagshub\n",
        "import mlflow\n",
        "\n",
        "# Initialize MLflow tracking with DagsHub\n",
        "dagshub.init(\n",
        "    repo_owner=\"AbdurRahman22224\",          # your DagsHub username\n",
        "    repo_name=\"Predictive_Delivery_Optimizer\",  # your repo name on DagsHub\n",
        "    mlflow=True\n",
        ")\n",
        "\n",
        "mlflow.set_tracking_uri(\"https://dagshub.com/AbdurRahman22224/Predictive_Delivery_Optimizer.mlflow\")"
      ],
      "metadata": {
        "colab": {
          "base_uri": "https://localhost:8080/",
          "height": 49
        },
        "id": "Gg7kJGBzMNN2",
        "outputId": "e01bc011-daaa-4eac-e25d-5dce8feab544"
      },
      "execution_count": 50,
      "outputs": [
        {
          "output_type": "display_data",
          "data": {
            "text/plain": [
              "Initialized MLflow to track repo \u001b[32m\"AbdurRahman22224/Predictive_Delivery_Optimizer\"\u001b[0m\n"
            ],
            "text/html": [
              "<pre style=\"white-space:pre;overflow-x:auto;line-height:normal;font-family:Menlo,'DejaVu Sans Mono',consolas,'Courier New',monospace\">Initialized MLflow to track repo <span style=\"color: #008000; text-decoration-color: #008000\">\"AbdurRahman22224/Predictive_Delivery_Optimizer\"</span>\n",
              "</pre>\n"
            ]
          },
          "metadata": {}
        },
        {
          "output_type": "display_data",
          "data": {
            "text/plain": [
              "Repository AbdurRahman22224/Predictive_Delivery_Optimizer initialized!\n"
            ],
            "text/html": [
              "<pre style=\"white-space:pre;overflow-x:auto;line-height:normal;font-family:Menlo,'DejaVu Sans Mono',consolas,'Courier New',monospace\">Repository AbdurRahman22224/Predictive_Delivery_Optimizer initialized!\n",
              "</pre>\n"
            ]
          },
          "metadata": {}
        }
      ]
    },
    {
      "cell_type": "code",
      "source": [
        "print(\"Current tracking URI:\", mlflow.get_tracking_uri())\n"
      ],
      "metadata": {
        "colab": {
          "base_uri": "https://localhost:8080/"
        },
        "id": "VHVYLsa1POai",
        "outputId": "26155f15-e494-4da8-f305-9850a6e97c6e"
      },
      "execution_count": 51,
      "outputs": [
        {
          "output_type": "stream",
          "name": "stdout",
          "text": [
            "Current tracking URI: https://dagshub.com/AbdurRahman22224/Predictive_Delivery_Optimizer.mlflow\n"
          ]
        }
      ]
    },
    {
      "cell_type": "code",
      "source": [
        "# Cell 1: directories & save preprocessor\n",
        "import os\n",
        "from pathlib import Path\n",
        "import joblib\n",
        "\n",
        "# Base directories (adjust DATA_DIR if you mounted Drive)\n",
        "BASE_DIR = Path(\"/content\")  # change to Path(\"/content/drive/MyDrive/nexgen_data\") if you want Drive\n",
        "PROCESSED_DIR = BASE_DIR / \"nexgen_processed\"\n",
        "MODELS_DIR = BASE_DIR / \"nexgen_models\"\n",
        "MLRUNS_DIR = BASE_DIR / \"mlruns\"  # local mlruns fallback\n",
        "\n",
        "for d in [PROCESSED_DIR, MODELS_DIR, MLRUNS_DIR]:\n",
        "    d.mkdir(parents=True, exist_ok=True)\n",
        "\n",
        "print(\"Directories ready:\")\n",
        "print(\"Processed:\", PROCESSED_DIR)\n",
        "print(\"Models:\", MODELS_DIR)\n",
        "print(\"MLruns:\", MLRUNS_DIR)\n",
        "\n",
        "# Save preprocessor (if defined)\n",
        "try:\n",
        "    preprocessor  # referencing variable from previous cells\n",
        "    preprocessor_fp = PROCESSED_DIR / \"preprocessor.joblib\"\n",
        "    joblib.dump(preprocessor, preprocessor_fp)\n",
        "    print(\"Saved preprocessor to:\", preprocessor_fp)\n",
        "except NameError:\n",
        "    print(\"Warning: `preprocessor` not found in scope. Make sure to run the preprocessing cell first.\")"
      ],
      "metadata": {
        "colab": {
          "base_uri": "https://localhost:8080/"
        },
        "id": "PNadrvwIKaGF",
        "outputId": "dd31d9d2-020a-48fc-c6f2-5b54b79f4b04"
      },
      "execution_count": 52,
      "outputs": [
        {
          "output_type": "stream",
          "name": "stdout",
          "text": [
            "Directories ready:\n",
            "Processed: /content/nexgen_processed\n",
            "Models: /content/nexgen_models\n",
            "MLruns: /content/mlruns\n",
            "Saved preprocessor to: /content/nexgen_processed/preprocessor.joblib\n"
          ]
        }
      ]
    },
    {
      "cell_type": "code",
      "source": [
        "!pip install optuna"
      ],
      "metadata": {
        "collapsed": true,
        "colab": {
          "base_uri": "https://localhost:8080/"
        },
        "id": "KRmfmoBvSoe1",
        "outputId": "fe17979b-589d-48ab-a658-f89da1e75223"
      },
      "execution_count": 56,
      "outputs": [
        {
          "output_type": "stream",
          "name": "stdout",
          "text": [
            "Collecting optuna\n",
            "  Downloading optuna-4.5.0-py3-none-any.whl.metadata (17 kB)\n",
            "Requirement already satisfied: alembic>=1.5.0 in /usr/local/lib/python3.12/dist-packages (from optuna) (1.17.0)\n",
            "Collecting colorlog (from optuna)\n",
            "  Downloading colorlog-6.10.1-py3-none-any.whl.metadata (11 kB)\n",
            "Requirement already satisfied: numpy in /usr/local/lib/python3.12/dist-packages (from optuna) (2.0.2)\n",
            "Requirement already satisfied: packaging>=20.0 in /usr/local/lib/python3.12/dist-packages (from optuna) (24.2)\n",
            "Requirement already satisfied: sqlalchemy>=1.4.2 in /usr/local/lib/python3.12/dist-packages (from optuna) (2.0.44)\n",
            "Requirement already satisfied: tqdm in /usr/local/lib/python3.12/dist-packages (from optuna) (4.67.1)\n",
            "Requirement already satisfied: PyYAML in /usr/local/lib/python3.12/dist-packages (from optuna) (6.0.3)\n",
            "Requirement already satisfied: Mako in /usr/local/lib/python3.12/dist-packages (from alembic>=1.5.0->optuna) (1.3.10)\n",
            "Requirement already satisfied: typing-extensions>=4.12 in /usr/local/lib/python3.12/dist-packages (from alembic>=1.5.0->optuna) (4.15.0)\n",
            "Requirement already satisfied: greenlet>=1 in /usr/local/lib/python3.12/dist-packages (from sqlalchemy>=1.4.2->optuna) (3.2.4)\n",
            "Requirement already satisfied: MarkupSafe>=0.9.2 in /usr/local/lib/python3.12/dist-packages (from Mako->alembic>=1.5.0->optuna) (3.0.3)\n",
            "Downloading optuna-4.5.0-py3-none-any.whl (400 kB)\n",
            "\u001b[2K   \u001b[90m━━━━━━━━━━━━━━━━━━━━━━━━━━━━━━━━━━━━━━━━\u001b[0m \u001b[32m400.9/400.9 kB\u001b[0m \u001b[31m6.8 MB/s\u001b[0m eta \u001b[36m0:00:00\u001b[0m\n",
            "\u001b[?25hDownloading colorlog-6.10.1-py3-none-any.whl (11 kB)\n",
            "Installing collected packages: colorlog, optuna\n",
            "Successfully installed colorlog-6.10.1 optuna-4.5.0\n"
          ]
        }
      ]
    },
    {
      "cell_type": "code",
      "source": [
        "import optuna\n",
        "import mlflow\n",
        "import mlflow.sklearn\n",
        "from sklearn.metrics import accuracy_score, f1_score, roc_auc_score, classification_report\n",
        "from sklearn.svm import SVC\n",
        "from catboost import CatBoostClassifier\n",
        "from sklearn.ensemble import RandomForestClassifier\n",
        "import joblib\n",
        "import os\n",
        "\n",
        "mlflow.set_experiment(\"Predictive_Delivery_Optimizer_HP_Tuning\")\n",
        "\n",
        "def objective(trial):\n",
        "    with mlflow.start_run(nested=True):\n",
        "        model_name = trial.suggest_categorical(\"model\", [\"RF\", \"CatBoost\", \"SVM\"])\n",
        "\n",
        "        # Log model name immediately\n",
        "        mlflow.log_param(\"model\", model_name)\n",
        "\n",
        "        if model_name == \"RF\":\n",
        "            n_estimators = trial.suggest_int(\"n_estimators\", 50, 300)\n",
        "            max_depth = trial.suggest_int(\"max_depth\", 3, 15)\n",
        "            min_samples_split = trial.suggest_int(\"min_samples_split\", 2, 10)\n",
        "            model = RandomForestClassifier(\n",
        "                n_estimators=n_estimators,\n",
        "                max_depth=max_depth,\n",
        "                min_samples_split=min_samples_split,\n",
        "                random_state=42,\n",
        "                n_jobs=-1\n",
        "            )\n",
        "            # Log RF specific hyperparameters\n",
        "            mlflow.log_params({\n",
        "                \"n_estimators\": n_estimators,\n",
        "                \"max_depth\": max_depth,\n",
        "                \"min_samples_split\": min_samples_split\n",
        "            })\n",
        "\n",
        "        elif model_name == \"CatBoost\":\n",
        "            depth = trial.suggest_int(\"depth\", 4, 10)\n",
        "            learning_rate = trial.suggest_float(\"learning_rate\", 0.01, 0.3)\n",
        "            iterations = trial.suggest_int(\"iterations\", 100, 400)\n",
        "            model = CatBoostClassifier(\n",
        "                depth=depth,\n",
        "                learning_rate=learning_rate,\n",
        "                iterations=iterations,\n",
        "                verbose=0,\n",
        "                random_seed=42\n",
        "            )\n",
        "            # Log CatBoost specific hyperparameters\n",
        "            mlflow.log_params({\n",
        "                \"depth\": depth,\n",
        "                \"learning_rate\": learning_rate,\n",
        "                \"iterations\": iterations\n",
        "            })\n",
        "\n",
        "\n",
        "        elif model_name == \"SVM\":\n",
        "            kernel = trial.suggest_categorical(\"kernel\", [\"linear\", \"rbf\", \"poly\"])\n",
        "            C = trial.suggest_float(\"C\", 0.1, 10.0)\n",
        "            gamma = \"scale\" if kernel == \"linear\" else trial.suggest_categorical(\"gamma\", [\"scale\", \"auto\"])\n",
        "            model = SVC(kernel=kernel, C=C, gamma=gamma, probability=True, random_state=42)\n",
        "            # Log SVM specific hyperparameters\n",
        "            mlflow.log_params({\n",
        "                \"kernel\": kernel,\n",
        "                \"C\": C,\n",
        "                \"gamma\": gamma\n",
        "            })\n",
        "\n",
        "\n",
        "        # Train\n",
        "        model.fit(X_train_trans, y_train)\n",
        "\n",
        "        # Predict\n",
        "        y_pred = model.predict(X_test_trans)\n",
        "        y_pred_proba = model.predict_proba(X_test_trans)[:, 1] if hasattr(model, \"predict_proba\") else None\n",
        "\n",
        "        # Metrics\n",
        "        acc = accuracy_score(y_test, y_pred)\n",
        "        f1 = f1_score(y_test, y_pred, average='weighted')\n",
        "        roc_auc = roc_auc_score(y_test, y_pred_proba) if y_pred_proba is not None else 0\n",
        "\n",
        "        # Log metrics to MLflow\n",
        "        mlflow.log_metric(\"Accuracy\", acc)\n",
        "        mlflow.log_metric(\"F1_Score\", f1)\n",
        "        mlflow.log_metric(\"ROC_AUC\", roc_auc)\n",
        "\n",
        "        # Save the model locally instead of logging to MLflow artifact store directly\n",
        "        model_dir = f\"models/{trial.number}\"\n",
        "        os.makedirs(model_dir, exist_ok=True)\n",
        "        model_path = os.path.join(model_dir, f\"{model_name}.joblib\")\n",
        "        joblib.dump(model, model_path)\n",
        "        # Log the path to the saved model as a parameter\n",
        "        mlflow.log_param(\"model_path\", model_path)\n",
        "\n",
        "\n",
        "        # Return the metric for optimization\n",
        "        return f1\n",
        "\n",
        "\n",
        "# Optimize\n",
        "study = optuna.create_study(direction=\"maximize\")\n",
        "study.optimize(objective, n_trials=20)\n",
        "\n",
        "print(\"Best Trial:\")\n",
        "print(study.best_trial.params)\n",
        "\n",
        "# Save the best model (Optuna trial object)\n",
        "best_model_name = study.best_trial.params[\"model\"]\n",
        "os.makedirs(\"models\", exist_ok=True)\n",
        "best_trial_path = f\"models/best_trial_{best_model_name}.joblib\"\n",
        "joblib.dump(study.best_trial, best_trial_path)\n",
        "print(f\"✅ Best trial object saved at: {best_trial_path}\")\n"
      ],
      "metadata": {
        "colab": {
          "base_uri": "https://localhost:8080/"
        },
        "collapsed": true,
        "id": "3lI31R27QiF-",
        "outputId": "96967097-e732-4caf-bd39-57ffa0c8ee60"
      },
      "execution_count": 58,
      "outputs": [
        {
          "output_type": "stream",
          "name": "stderr",
          "text": [
            "[I 2025-10-27 06:13:04,899] A new study created in memory with name: no-name-ce1962f2-27be-4fd5-a4a4-8cb70d022f71\n",
            "[I 2025-10-27 06:13:06,184] Trial 0 finished with value: 0.4314253647586981 and parameters: {'model': 'SVM', 'kernel': 'linear', 'C': 4.494902966647239}. Best is trial 0 with value: 0.4314253647586981.\n"
          ]
        },
        {
          "output_type": "stream",
          "name": "stdout",
          "text": [
            "🏃 View run sneaky-ape-693 at: https://dagshub.com/AbdurRahman22224/Predictive_Delivery_Optimizer.mlflow/#/experiments/1/runs/759d5bd5e66c4dfab62ba47615aeb472\n",
            "🧪 View experiment at: https://dagshub.com/AbdurRahman22224/Predictive_Delivery_Optimizer.mlflow/#/experiments/1\n",
            "🏃 View run fortunate-moose-476 at: https://dagshub.com/AbdurRahman22224/Predictive_Delivery_Optimizer.mlflow/#/experiments/1/runs/c49938ce6a5f4cfeb2d993488eeb881c\n",
            "🧪 View experiment at: https://dagshub.com/AbdurRahman22224/Predictive_Delivery_Optimizer.mlflow/#/experiments/1\n"
          ]
        },
        {
          "output_type": "stream",
          "name": "stderr",
          "text": [
            "[I 2025-10-27 06:13:12,897] Trial 1 finished with value: 0.6666666666666666 and parameters: {'model': 'CatBoost', 'depth': 10, 'learning_rate': 0.014256902948256489, 'iterations': 137}. Best is trial 1 with value: 0.6666666666666666.\n"
          ]
        },
        {
          "output_type": "stream",
          "name": "stdout",
          "text": [
            "🏃 View run popular-midge-961 at: https://dagshub.com/AbdurRahman22224/Predictive_Delivery_Optimizer.mlflow/#/experiments/1/runs/9a958adf970c485086462bb9aeac7f40\n",
            "🧪 View experiment at: https://dagshub.com/AbdurRahman22224/Predictive_Delivery_Optimizer.mlflow/#/experiments/1\n"
          ]
        },
        {
          "output_type": "stream",
          "name": "stderr",
          "text": [
            "[I 2025-10-27 06:13:21,907] Trial 2 finished with value: 0.6321097515758249 and parameters: {'model': 'RF', 'n_estimators': 167, 'max_depth': 12, 'min_samples_split': 4}. Best is trial 1 with value: 0.6666666666666666.\n"
          ]
        },
        {
          "output_type": "stream",
          "name": "stdout",
          "text": [
            "🏃 View run burly-dog-227 at: https://dagshub.com/AbdurRahman22224/Predictive_Delivery_Optimizer.mlflow/#/experiments/1/runs/95ce0e48f352436baf117bc3c0aceef2\n",
            "🧪 View experiment at: https://dagshub.com/AbdurRahman22224/Predictive_Delivery_Optimizer.mlflow/#/experiments/1\n"
          ]
        },
        {
          "output_type": "stream",
          "name": "stderr",
          "text": [
            "[I 2025-10-27 06:13:30,891] Trial 3 finished with value: 0.4618401206636501 and parameters: {'model': 'SVM', 'kernel': 'linear', 'C': 6.523317653565173}. Best is trial 1 with value: 0.6666666666666666.\n"
          ]
        },
        {
          "output_type": "stream",
          "name": "stdout",
          "text": [
            "🏃 View run skittish-mink-741 at: https://dagshub.com/AbdurRahman22224/Predictive_Delivery_Optimizer.mlflow/#/experiments/1/runs/5547504d891645c695d2ffdcab7cb776\n",
            "🧪 View experiment at: https://dagshub.com/AbdurRahman22224/Predictive_Delivery_Optimizer.mlflow/#/experiments/1\n"
          ]
        },
        {
          "output_type": "stream",
          "name": "stderr",
          "text": [
            "[I 2025-10-27 06:13:39,894] Trial 4 finished with value: 0.7003337041156841 and parameters: {'model': 'CatBoost', 'depth': 7, 'learning_rate': 0.15423000550132251, 'iterations': 217}. Best is trial 4 with value: 0.7003337041156841.\n"
          ]
        },
        {
          "output_type": "stream",
          "name": "stdout",
          "text": [
            "🏃 View run honorable-horse-906 at: https://dagshub.com/AbdurRahman22224/Predictive_Delivery_Optimizer.mlflow/#/experiments/1/runs/aa31d71b65b14e25bc40677bba58e648\n",
            "🧪 View experiment at: https://dagshub.com/AbdurRahman22224/Predictive_Delivery_Optimizer.mlflow/#/experiments/1\n"
          ]
        },
        {
          "output_type": "stream",
          "name": "stderr",
          "text": [
            "[I 2025-10-27 06:13:48,896] Trial 5 finished with value: 0.6337411939191694 and parameters: {'model': 'CatBoost', 'depth': 10, 'learning_rate': 0.25018122378157837, 'iterations': 207}. Best is trial 4 with value: 0.7003337041156841.\n"
          ]
        },
        {
          "output_type": "stream",
          "name": "stdout",
          "text": [
            "🏃 View run selective-gnat-8 at: https://dagshub.com/AbdurRahman22224/Predictive_Delivery_Optimizer.mlflow/#/experiments/1/runs/37d6ca3d9a49442db0bbdd5128ca6668\n",
            "🧪 View experiment at: https://dagshub.com/AbdurRahman22224/Predictive_Delivery_Optimizer.mlflow/#/experiments/1\n"
          ]
        },
        {
          "output_type": "stream",
          "name": "stderr",
          "text": [
            "[I 2025-10-27 06:13:57,888] Trial 6 finished with value: 0.7003337041156841 and parameters: {'model': 'CatBoost', 'depth': 8, 'learning_rate': 0.20998973991935302, 'iterations': 352}. Best is trial 4 with value: 0.7003337041156841.\n"
          ]
        },
        {
          "output_type": "stream",
          "name": "stdout",
          "text": [
            "🏃 View run angry-penguin-154 at: https://dagshub.com/AbdurRahman22224/Predictive_Delivery_Optimizer.mlflow/#/experiments/1/runs/cec8b8abe9f741d6ab3492d1b7a75e81\n",
            "🧪 View experiment at: https://dagshub.com/AbdurRahman22224/Predictive_Delivery_Optimizer.mlflow/#/experiments/1\n"
          ]
        },
        {
          "output_type": "stream",
          "name": "stderr",
          "text": [
            "[I 2025-10-27 06:14:06,891] Trial 7 finished with value: 0.6320987654320988 and parameters: {'model': 'CatBoost', 'depth': 10, 'learning_rate': 0.06084560286444943, 'iterations': 156}. Best is trial 4 with value: 0.7003337041156841.\n"
          ]
        },
        {
          "output_type": "stream",
          "name": "stdout",
          "text": [
            "🏃 View run masked-sow-62 at: https://dagshub.com/AbdurRahman22224/Predictive_Delivery_Optimizer.mlflow/#/experiments/1/runs/db9b16e84f684711b0b848ca09298e5b\n",
            "🧪 View experiment at: https://dagshub.com/AbdurRahman22224/Predictive_Delivery_Optimizer.mlflow/#/experiments/1\n"
          ]
        },
        {
          "output_type": "stream",
          "name": "stderr",
          "text": [
            "[I 2025-10-27 06:14:15,901] Trial 8 finished with value: 0.5592380952380952 and parameters: {'model': 'SVM', 'kernel': 'rbf', 'C': 4.053483339885692, 'gamma': 'auto'}. Best is trial 4 with value: 0.7003337041156841.\n"
          ]
        },
        {
          "output_type": "stream",
          "name": "stdout",
          "text": [
            "🏃 View run righteous-lynx-391 at: https://dagshub.com/AbdurRahman22224/Predictive_Delivery_Optimizer.mlflow/#/experiments/1/runs/203f2da2409146ca92cf47d643491e80\n",
            "🧪 View experiment at: https://dagshub.com/AbdurRahman22224/Predictive_Delivery_Optimizer.mlflow/#/experiments/1\n"
          ]
        },
        {
          "output_type": "stream",
          "name": "stderr",
          "text": [
            "[I 2025-10-27 06:14:24,889] Trial 9 finished with value: 0.5333333333333333 and parameters: {'model': 'RF', 'n_estimators': 165, 'max_depth': 15, 'min_samples_split': 10}. Best is trial 4 with value: 0.7003337041156841.\n"
          ]
        },
        {
          "output_type": "stream",
          "name": "stdout",
          "text": [
            "🏃 View run vaunted-eel-535 at: https://dagshub.com/AbdurRahman22224/Predictive_Delivery_Optimizer.mlflow/#/experiments/1/runs/645d8ba78c884e68941c281f7cc91aea\n",
            "🧪 View experiment at: https://dagshub.com/AbdurRahman22224/Predictive_Delivery_Optimizer.mlflow/#/experiments/1\n"
          ]
        },
        {
          "output_type": "stream",
          "name": "stderr",
          "text": [
            "[I 2025-10-27 06:14:33,894] Trial 10 finished with value: 0.6989898989898989 and parameters: {'model': 'CatBoost', 'depth': 4, 'learning_rate': 0.1310554531849288, 'iterations': 297}. Best is trial 4 with value: 0.7003337041156841.\n"
          ]
        },
        {
          "output_type": "stream",
          "name": "stdout",
          "text": [
            "🏃 View run melodic-cod-474 at: https://dagshub.com/AbdurRahman22224/Predictive_Delivery_Optimizer.mlflow/#/experiments/1/runs/4ffb0629b7b7486dbc8a50843d9be3a0\n",
            "🧪 View experiment at: https://dagshub.com/AbdurRahman22224/Predictive_Delivery_Optimizer.mlflow/#/experiments/1\n"
          ]
        },
        {
          "output_type": "stream",
          "name": "stderr",
          "text": [
            "[I 2025-10-27 06:14:42,902] Trial 11 finished with value: 0.7003337041156841 and parameters: {'model': 'CatBoost', 'depth': 7, 'learning_rate': 0.20835560890747798, 'iterations': 386}. Best is trial 4 with value: 0.7003337041156841.\n"
          ]
        },
        {
          "output_type": "stream",
          "name": "stdout",
          "text": [
            "🏃 View run salty-lynx-520 at: https://dagshub.com/AbdurRahman22224/Predictive_Delivery_Optimizer.mlflow/#/experiments/1/runs/6508233f91864d408a86fe27062a4b34\n",
            "🧪 View experiment at: https://dagshub.com/AbdurRahman22224/Predictive_Delivery_Optimizer.mlflow/#/experiments/1\n"
          ]
        },
        {
          "output_type": "stream",
          "name": "stderr",
          "text": [
            "[I 2025-10-27 06:14:51,899] Trial 12 finished with value: 0.6666666666666666 and parameters: {'model': 'CatBoost', 'depth': 7, 'learning_rate': 0.16035872006791024, 'iterations': 300}. Best is trial 4 with value: 0.7003337041156841.\n"
          ]
        },
        {
          "output_type": "stream",
          "name": "stdout",
          "text": [
            "🏃 View run upbeat-eel-199 at: https://dagshub.com/AbdurRahman22224/Predictive_Delivery_Optimizer.mlflow/#/experiments/1/runs/b19a1b112e59479484b23135e09cd91d\n",
            "🧪 View experiment at: https://dagshub.com/AbdurRahman22224/Predictive_Delivery_Optimizer.mlflow/#/experiments/1\n"
          ]
        },
        {
          "output_type": "stream",
          "name": "stderr",
          "text": [
            "[I 2025-10-27 06:15:00,885] Trial 13 finished with value: 0.7333333333333333 and parameters: {'model': 'CatBoost', 'depth': 8, 'learning_rate': 0.29839567716810317, 'iterations': 400}. Best is trial 13 with value: 0.7333333333333333.\n"
          ]
        },
        {
          "output_type": "stream",
          "name": "stdout",
          "text": [
            "🏃 View run adventurous-fish-619 at: https://dagshub.com/AbdurRahman22224/Predictive_Delivery_Optimizer.mlflow/#/experiments/1/runs/656c9cab3a1b4c7a8185e1b4d781b478\n",
            "🧪 View experiment at: https://dagshub.com/AbdurRahman22224/Predictive_Delivery_Optimizer.mlflow/#/experiments/1\n"
          ]
        },
        {
          "output_type": "stream",
          "name": "stderr",
          "text": [
            "[I 2025-10-27 06:15:09,914] Trial 14 finished with value: 0.6666666666666666 and parameters: {'model': 'CatBoost', 'depth': 5, 'learning_rate': 0.2952240345266324, 'iterations': 229}. Best is trial 13 with value: 0.7333333333333333.\n"
          ]
        },
        {
          "output_type": "stream",
          "name": "stdout",
          "text": [
            "🏃 View run melodic-carp-512 at: https://dagshub.com/AbdurRahman22224/Predictive_Delivery_Optimizer.mlflow/#/experiments/1/runs/23ed5da4912f4837bfdb19e490894978\n",
            "🧪 View experiment at: https://dagshub.com/AbdurRahman22224/Predictive_Delivery_Optimizer.mlflow/#/experiments/1\n"
          ]
        },
        {
          "output_type": "stream",
          "name": "stderr",
          "text": [
            "[I 2025-10-27 06:15:18,897] Trial 15 finished with value: 0.5888888888888888 and parameters: {'model': 'RF', 'n_estimators': 292, 'max_depth': 3, 'min_samples_split': 9}. Best is trial 13 with value: 0.7333333333333333.\n"
          ]
        },
        {
          "output_type": "stream",
          "name": "stdout",
          "text": [
            "🏃 View run inquisitive-lamb-490 at: https://dagshub.com/AbdurRahman22224/Predictive_Delivery_Optimizer.mlflow/#/experiments/1/runs/28bc28ed6f36447b99333c9bfbe751fc\n",
            "🧪 View experiment at: https://dagshub.com/AbdurRahman22224/Predictive_Delivery_Optimizer.mlflow/#/experiments/1\n"
          ]
        },
        {
          "output_type": "stream",
          "name": "stderr",
          "text": [
            "[I 2025-10-27 06:15:27,904] Trial 16 finished with value: 0.6666666666666666 and parameters: {'model': 'CatBoost', 'depth': 8, 'learning_rate': 0.12438151760926232, 'iterations': 278}. Best is trial 13 with value: 0.7333333333333333.\n"
          ]
        },
        {
          "output_type": "stream",
          "name": "stdout",
          "text": [
            "🏃 View run invincible-auk-855 at: https://dagshub.com/AbdurRahman22224/Predictive_Delivery_Optimizer.mlflow/#/experiments/1/runs/6bfae001abcd41ecbbed34c8d06f0839\n",
            "🧪 View experiment at: https://dagshub.com/AbdurRahman22224/Predictive_Delivery_Optimizer.mlflow/#/experiments/1\n"
          ]
        },
        {
          "output_type": "stream",
          "name": "stderr",
          "text": [
            "[I 2025-10-27 06:15:36,905] Trial 17 finished with value: 0.7003337041156841 and parameters: {'model': 'CatBoost', 'depth': 6, 'learning_rate': 0.19118077748851783, 'iterations': 195}. Best is trial 13 with value: 0.7333333333333333.\n"
          ]
        },
        {
          "output_type": "stream",
          "name": "stdout",
          "text": [
            "🏃 View run bald-pug-926 at: https://dagshub.com/AbdurRahman22224/Predictive_Delivery_Optimizer.mlflow/#/experiments/1/runs/fefc0b9fa3884513b044b0fe27570d4c\n",
            "🧪 View experiment at: https://dagshub.com/AbdurRahman22224/Predictive_Delivery_Optimizer.mlflow/#/experiments/1\n"
          ]
        },
        {
          "output_type": "stream",
          "name": "stderr",
          "text": [
            "[I 2025-10-27 06:15:45,899] Trial 18 finished with value: 0.5333333333333333 and parameters: {'model': 'SVM', 'kernel': 'poly', 'C': 9.929471697790362, 'gamma': 'scale'}. Best is trial 13 with value: 0.7333333333333333.\n"
          ]
        },
        {
          "output_type": "stream",
          "name": "stdout",
          "text": [
            "🏃 View run exultant-rat-573 at: https://dagshub.com/AbdurRahman22224/Predictive_Delivery_Optimizer.mlflow/#/experiments/1/runs/12c8eb8343d447d08b7c8127c61c8af0\n",
            "🧪 View experiment at: https://dagshub.com/AbdurRahman22224/Predictive_Delivery_Optimizer.mlflow/#/experiments/1\n"
          ]
        },
        {
          "output_type": "stream",
          "name": "stderr",
          "text": [
            "[I 2025-10-27 06:15:54,905] Trial 19 finished with value: 0.49831649831649827 and parameters: {'model': 'RF', 'n_estimators': 51, 'max_depth': 6, 'min_samples_split': 2}. Best is trial 13 with value: 0.7333333333333333.\n"
          ]
        },
        {
          "output_type": "stream",
          "name": "stdout",
          "text": [
            "Best Trial:\n",
            "{'model': 'CatBoost', 'depth': 8, 'learning_rate': 0.29839567716810317, 'iterations': 400}\n",
            "✅ Best trial object saved at: models/best_trial_CatBoost.joblib\n"
          ]
        }
      ]
    },
    {
      "cell_type": "code",
      "source": [
        "study.trials_dataframe().head(5)"
      ],
      "metadata": {
        "colab": {
          "base_uri": "https://localhost:8080/",
          "height": 313
        },
        "id": "Wt13fdjxUOOX",
        "outputId": "16434eb1-a401-47c6-d0e1-4237b737182a"
      },
      "execution_count": 63,
      "outputs": [
        {
          "output_type": "execute_result",
          "data": {
            "text/plain": [
              "   number     value             datetime_start          datetime_complete  \\\n",
              "0       0  0.431425 2025-10-27 06:13:04.900629 2025-10-27 06:13:06.184662   \n",
              "1       1  0.666667 2025-10-27 06:13:06.185690 2025-10-27 06:13:12.897334   \n",
              "2       2  0.632110 2025-10-27 06:13:12.898438 2025-10-27 06:13:21.907509   \n",
              "3       3  0.461840 2025-10-27 06:13:21.908899 2025-10-27 06:13:30.890988   \n",
              "4       4  0.700334 2025-10-27 06:13:30.891979 2025-10-27 06:13:39.893903   \n",
              "\n",
              "                duration  params_C  params_depth params_gamma  \\\n",
              "0 0 days 00:00:01.284033  4.494903           NaN          NaN   \n",
              "1 0 days 00:00:06.711644       NaN          10.0          NaN   \n",
              "2 0 days 00:00:09.009071       NaN           NaN          NaN   \n",
              "3 0 days 00:00:08.982089  6.523318           NaN          NaN   \n",
              "4 0 days 00:00:09.001924       NaN           7.0          NaN   \n",
              "\n",
              "   params_iterations params_kernel  params_learning_rate  params_max_depth  \\\n",
              "0                NaN        linear                   NaN               NaN   \n",
              "1              137.0           NaN              0.014257               NaN   \n",
              "2                NaN           NaN                   NaN              12.0   \n",
              "3                NaN        linear                   NaN               NaN   \n",
              "4              217.0           NaN              0.154230               NaN   \n",
              "\n",
              "   params_min_samples_split params_model  params_n_estimators     state  \n",
              "0                       NaN          SVM                  NaN  COMPLETE  \n",
              "1                       NaN     CatBoost                  NaN  COMPLETE  \n",
              "2                       4.0           RF                167.0  COMPLETE  \n",
              "3                       NaN          SVM                  NaN  COMPLETE  \n",
              "4                       NaN     CatBoost                  NaN  COMPLETE  "
            ],
            "text/html": [
              "\n",
              "  <div id=\"df-d01d2b45-d13a-4eda-87fa-b23f7e6ce396\" class=\"colab-df-container\">\n",
              "    <div>\n",
              "<style scoped>\n",
              "    .dataframe tbody tr th:only-of-type {\n",
              "        vertical-align: middle;\n",
              "    }\n",
              "\n",
              "    .dataframe tbody tr th {\n",
              "        vertical-align: top;\n",
              "    }\n",
              "\n",
              "    .dataframe thead th {\n",
              "        text-align: right;\n",
              "    }\n",
              "</style>\n",
              "<table border=\"1\" class=\"dataframe\">\n",
              "  <thead>\n",
              "    <tr style=\"text-align: right;\">\n",
              "      <th></th>\n",
              "      <th>number</th>\n",
              "      <th>value</th>\n",
              "      <th>datetime_start</th>\n",
              "      <th>datetime_complete</th>\n",
              "      <th>duration</th>\n",
              "      <th>params_C</th>\n",
              "      <th>params_depth</th>\n",
              "      <th>params_gamma</th>\n",
              "      <th>params_iterations</th>\n",
              "      <th>params_kernel</th>\n",
              "      <th>params_learning_rate</th>\n",
              "      <th>params_max_depth</th>\n",
              "      <th>params_min_samples_split</th>\n",
              "      <th>params_model</th>\n",
              "      <th>params_n_estimators</th>\n",
              "      <th>state</th>\n",
              "    </tr>\n",
              "  </thead>\n",
              "  <tbody>\n",
              "    <tr>\n",
              "      <th>0</th>\n",
              "      <td>0</td>\n",
              "      <td>0.431425</td>\n",
              "      <td>2025-10-27 06:13:04.900629</td>\n",
              "      <td>2025-10-27 06:13:06.184662</td>\n",
              "      <td>0 days 00:00:01.284033</td>\n",
              "      <td>4.494903</td>\n",
              "      <td>NaN</td>\n",
              "      <td>NaN</td>\n",
              "      <td>NaN</td>\n",
              "      <td>linear</td>\n",
              "      <td>NaN</td>\n",
              "      <td>NaN</td>\n",
              "      <td>NaN</td>\n",
              "      <td>SVM</td>\n",
              "      <td>NaN</td>\n",
              "      <td>COMPLETE</td>\n",
              "    </tr>\n",
              "    <tr>\n",
              "      <th>1</th>\n",
              "      <td>1</td>\n",
              "      <td>0.666667</td>\n",
              "      <td>2025-10-27 06:13:06.185690</td>\n",
              "      <td>2025-10-27 06:13:12.897334</td>\n",
              "      <td>0 days 00:00:06.711644</td>\n",
              "      <td>NaN</td>\n",
              "      <td>10.0</td>\n",
              "      <td>NaN</td>\n",
              "      <td>137.0</td>\n",
              "      <td>NaN</td>\n",
              "      <td>0.014257</td>\n",
              "      <td>NaN</td>\n",
              "      <td>NaN</td>\n",
              "      <td>CatBoost</td>\n",
              "      <td>NaN</td>\n",
              "      <td>COMPLETE</td>\n",
              "    </tr>\n",
              "    <tr>\n",
              "      <th>2</th>\n",
              "      <td>2</td>\n",
              "      <td>0.632110</td>\n",
              "      <td>2025-10-27 06:13:12.898438</td>\n",
              "      <td>2025-10-27 06:13:21.907509</td>\n",
              "      <td>0 days 00:00:09.009071</td>\n",
              "      <td>NaN</td>\n",
              "      <td>NaN</td>\n",
              "      <td>NaN</td>\n",
              "      <td>NaN</td>\n",
              "      <td>NaN</td>\n",
              "      <td>NaN</td>\n",
              "      <td>12.0</td>\n",
              "      <td>4.0</td>\n",
              "      <td>RF</td>\n",
              "      <td>167.0</td>\n",
              "      <td>COMPLETE</td>\n",
              "    </tr>\n",
              "    <tr>\n",
              "      <th>3</th>\n",
              "      <td>3</td>\n",
              "      <td>0.461840</td>\n",
              "      <td>2025-10-27 06:13:21.908899</td>\n",
              "      <td>2025-10-27 06:13:30.890988</td>\n",
              "      <td>0 days 00:00:08.982089</td>\n",
              "      <td>6.523318</td>\n",
              "      <td>NaN</td>\n",
              "      <td>NaN</td>\n",
              "      <td>NaN</td>\n",
              "      <td>linear</td>\n",
              "      <td>NaN</td>\n",
              "      <td>NaN</td>\n",
              "      <td>NaN</td>\n",
              "      <td>SVM</td>\n",
              "      <td>NaN</td>\n",
              "      <td>COMPLETE</td>\n",
              "    </tr>\n",
              "    <tr>\n",
              "      <th>4</th>\n",
              "      <td>4</td>\n",
              "      <td>0.700334</td>\n",
              "      <td>2025-10-27 06:13:30.891979</td>\n",
              "      <td>2025-10-27 06:13:39.893903</td>\n",
              "      <td>0 days 00:00:09.001924</td>\n",
              "      <td>NaN</td>\n",
              "      <td>7.0</td>\n",
              "      <td>NaN</td>\n",
              "      <td>217.0</td>\n",
              "      <td>NaN</td>\n",
              "      <td>0.154230</td>\n",
              "      <td>NaN</td>\n",
              "      <td>NaN</td>\n",
              "      <td>CatBoost</td>\n",
              "      <td>NaN</td>\n",
              "      <td>COMPLETE</td>\n",
              "    </tr>\n",
              "  </tbody>\n",
              "</table>\n",
              "</div>\n",
              "    <div class=\"colab-df-buttons\">\n",
              "\n",
              "  <div class=\"colab-df-container\">\n",
              "    <button class=\"colab-df-convert\" onclick=\"convertToInteractive('df-d01d2b45-d13a-4eda-87fa-b23f7e6ce396')\"\n",
              "            title=\"Convert this dataframe to an interactive table.\"\n",
              "            style=\"display:none;\">\n",
              "\n",
              "  <svg xmlns=\"http://www.w3.org/2000/svg\" height=\"24px\" viewBox=\"0 -960 960 960\">\n",
              "    <path d=\"M120-120v-720h720v720H120Zm60-500h600v-160H180v160Zm220 220h160v-160H400v160Zm0 220h160v-160H400v160ZM180-400h160v-160H180v160Zm440 0h160v-160H620v160ZM180-180h160v-160H180v160Zm440 0h160v-160H620v160Z\"/>\n",
              "  </svg>\n",
              "    </button>\n",
              "\n",
              "  <style>\n",
              "    .colab-df-container {\n",
              "      display:flex;\n",
              "      gap: 12px;\n",
              "    }\n",
              "\n",
              "    .colab-df-convert {\n",
              "      background-color: #E8F0FE;\n",
              "      border: none;\n",
              "      border-radius: 50%;\n",
              "      cursor: pointer;\n",
              "      display: none;\n",
              "      fill: #1967D2;\n",
              "      height: 32px;\n",
              "      padding: 0 0 0 0;\n",
              "      width: 32px;\n",
              "    }\n",
              "\n",
              "    .colab-df-convert:hover {\n",
              "      background-color: #E2EBFA;\n",
              "      box-shadow: 0px 1px 2px rgba(60, 64, 67, 0.3), 0px 1px 3px 1px rgba(60, 64, 67, 0.15);\n",
              "      fill: #174EA6;\n",
              "    }\n",
              "\n",
              "    .colab-df-buttons div {\n",
              "      margin-bottom: 4px;\n",
              "    }\n",
              "\n",
              "    [theme=dark] .colab-df-convert {\n",
              "      background-color: #3B4455;\n",
              "      fill: #D2E3FC;\n",
              "    }\n",
              "\n",
              "    [theme=dark] .colab-df-convert:hover {\n",
              "      background-color: #434B5C;\n",
              "      box-shadow: 0px 1px 3px 1px rgba(0, 0, 0, 0.15);\n",
              "      filter: drop-shadow(0px 1px 2px rgba(0, 0, 0, 0.3));\n",
              "      fill: #FFFFFF;\n",
              "    }\n",
              "  </style>\n",
              "\n",
              "    <script>\n",
              "      const buttonEl =\n",
              "        document.querySelector('#df-d01d2b45-d13a-4eda-87fa-b23f7e6ce396 button.colab-df-convert');\n",
              "      buttonEl.style.display =\n",
              "        google.colab.kernel.accessAllowed ? 'block' : 'none';\n",
              "\n",
              "      async function convertToInteractive(key) {\n",
              "        const element = document.querySelector('#df-d01d2b45-d13a-4eda-87fa-b23f7e6ce396');\n",
              "        const dataTable =\n",
              "          await google.colab.kernel.invokeFunction('convertToInteractive',\n",
              "                                                    [key], {});\n",
              "        if (!dataTable) return;\n",
              "\n",
              "        const docLinkHtml = 'Like what you see? Visit the ' +\n",
              "          '<a target=\"_blank\" href=https://colab.research.google.com/notebooks/data_table.ipynb>data table notebook</a>'\n",
              "          + ' to learn more about interactive tables.';\n",
              "        element.innerHTML = '';\n",
              "        dataTable['output_type'] = 'display_data';\n",
              "        await google.colab.output.renderOutput(dataTable, element);\n",
              "        const docLink = document.createElement('div');\n",
              "        docLink.innerHTML = docLinkHtml;\n",
              "        element.appendChild(docLink);\n",
              "      }\n",
              "    </script>\n",
              "  </div>\n",
              "\n",
              "\n",
              "    <div id=\"df-7eb34b6f-51cf-4067-85a7-329034f459af\">\n",
              "      <button class=\"colab-df-quickchart\" onclick=\"quickchart('df-7eb34b6f-51cf-4067-85a7-329034f459af')\"\n",
              "                title=\"Suggest charts\"\n",
              "                style=\"display:none;\">\n",
              "\n",
              "<svg xmlns=\"http://www.w3.org/2000/svg\" height=\"24px\"viewBox=\"0 0 24 24\"\n",
              "     width=\"24px\">\n",
              "    <g>\n",
              "        <path d=\"M19 3H5c-1.1 0-2 .9-2 2v14c0 1.1.9 2 2 2h14c1.1 0 2-.9 2-2V5c0-1.1-.9-2-2-2zM9 17H7v-7h2v7zm4 0h-2V7h2v10zm4 0h-2v-4h2v4z\"/>\n",
              "    </g>\n",
              "</svg>\n",
              "      </button>\n",
              "\n",
              "<style>\n",
              "  .colab-df-quickchart {\n",
              "      --bg-color: #E8F0FE;\n",
              "      --fill-color: #1967D2;\n",
              "      --hover-bg-color: #E2EBFA;\n",
              "      --hover-fill-color: #174EA6;\n",
              "      --disabled-fill-color: #AAA;\n",
              "      --disabled-bg-color: #DDD;\n",
              "  }\n",
              "\n",
              "  [theme=dark] .colab-df-quickchart {\n",
              "      --bg-color: #3B4455;\n",
              "      --fill-color: #D2E3FC;\n",
              "      --hover-bg-color: #434B5C;\n",
              "      --hover-fill-color: #FFFFFF;\n",
              "      --disabled-bg-color: #3B4455;\n",
              "      --disabled-fill-color: #666;\n",
              "  }\n",
              "\n",
              "  .colab-df-quickchart {\n",
              "    background-color: var(--bg-color);\n",
              "    border: none;\n",
              "    border-radius: 50%;\n",
              "    cursor: pointer;\n",
              "    display: none;\n",
              "    fill: var(--fill-color);\n",
              "    height: 32px;\n",
              "    padding: 0;\n",
              "    width: 32px;\n",
              "  }\n",
              "\n",
              "  .colab-df-quickchart:hover {\n",
              "    background-color: var(--hover-bg-color);\n",
              "    box-shadow: 0 1px 2px rgba(60, 64, 67, 0.3), 0 1px 3px 1px rgba(60, 64, 67, 0.15);\n",
              "    fill: var(--button-hover-fill-color);\n",
              "  }\n",
              "\n",
              "  .colab-df-quickchart-complete:disabled,\n",
              "  .colab-df-quickchart-complete:disabled:hover {\n",
              "    background-color: var(--disabled-bg-color);\n",
              "    fill: var(--disabled-fill-color);\n",
              "    box-shadow: none;\n",
              "  }\n",
              "\n",
              "  .colab-df-spinner {\n",
              "    border: 2px solid var(--fill-color);\n",
              "    border-color: transparent;\n",
              "    border-bottom-color: var(--fill-color);\n",
              "    animation:\n",
              "      spin 1s steps(1) infinite;\n",
              "  }\n",
              "\n",
              "  @keyframes spin {\n",
              "    0% {\n",
              "      border-color: transparent;\n",
              "      border-bottom-color: var(--fill-color);\n",
              "      border-left-color: var(--fill-color);\n",
              "    }\n",
              "    20% {\n",
              "      border-color: transparent;\n",
              "      border-left-color: var(--fill-color);\n",
              "      border-top-color: var(--fill-color);\n",
              "    }\n",
              "    30% {\n",
              "      border-color: transparent;\n",
              "      border-left-color: var(--fill-color);\n",
              "      border-top-color: var(--fill-color);\n",
              "      border-right-color: var(--fill-color);\n",
              "    }\n",
              "    40% {\n",
              "      border-color: transparent;\n",
              "      border-right-color: var(--fill-color);\n",
              "      border-top-color: var(--fill-color);\n",
              "    }\n",
              "    60% {\n",
              "      border-color: transparent;\n",
              "      border-right-color: var(--fill-color);\n",
              "    }\n",
              "    80% {\n",
              "      border-color: transparent;\n",
              "      border-right-color: var(--fill-color);\n",
              "      border-bottom-color: var(--fill-color);\n",
              "    }\n",
              "    90% {\n",
              "      border-color: transparent;\n",
              "      border-bottom-color: var(--fill-color);\n",
              "    }\n",
              "  }\n",
              "</style>\n",
              "\n",
              "      <script>\n",
              "        async function quickchart(key) {\n",
              "          const quickchartButtonEl =\n",
              "            document.querySelector('#' + key + ' button');\n",
              "          quickchartButtonEl.disabled = true;  // To prevent multiple clicks.\n",
              "          quickchartButtonEl.classList.add('colab-df-spinner');\n",
              "          try {\n",
              "            const charts = await google.colab.kernel.invokeFunction(\n",
              "                'suggestCharts', [key], {});\n",
              "          } catch (error) {\n",
              "            console.error('Error during call to suggestCharts:', error);\n",
              "          }\n",
              "          quickchartButtonEl.classList.remove('colab-df-spinner');\n",
              "          quickchartButtonEl.classList.add('colab-df-quickchart-complete');\n",
              "        }\n",
              "        (() => {\n",
              "          let quickchartButtonEl =\n",
              "            document.querySelector('#df-7eb34b6f-51cf-4067-85a7-329034f459af button');\n",
              "          quickchartButtonEl.style.display =\n",
              "            google.colab.kernel.accessAllowed ? 'block' : 'none';\n",
              "        })();\n",
              "      </script>\n",
              "    </div>\n",
              "\n",
              "    </div>\n",
              "  </div>\n"
            ],
            "application/vnd.google.colaboratory.intrinsic+json": {
              "type": "dataframe",
              "repr_error": "Out of range float values are not JSON compliant: nan"
            }
          },
          "metadata": {},
          "execution_count": 63
        }
      ]
    },
    {
      "cell_type": "code",
      "source": [
        "# model frequency\n",
        "opt_df = pd.DataFrame(\n",
        "    {\n",
        "        \"model\": study.trials_dataframe()['params_model'].value_counts().index,\n",
        "        \"freq\": study.trials_dataframe()['params_model'].value_counts().values,\n",
        "        \"F1\": study.trials_dataframe().groupby(\"params_model\")['value'].mean().sort_values(ascending=False).values\n",
        "    }\n",
        ")\n",
        "print(opt_df)\n",
        "best_trial = study.best_trial\n",
        "print(\"Best Model:\", best_trial.params[\"model\"])\n",
        "print()\n",
        "print(\"Best F1-Score:\", best_trial.value)\n",
        "\n"
      ],
      "metadata": {
        "colab": {
          "base_uri": "https://localhost:8080/"
        },
        "id": "C0vS-dggTZ3k",
        "outputId": "116f5934-fd94-473d-802d-294a25e594d6"
      },
      "execution_count": 64,
      "outputs": [
        {
          "output_type": "stream",
          "name": "stdout",
          "text": [
            "      model  freq        F1\n",
            "0  CatBoost    12  0.680514\n",
            "1       SVM     4  0.563162\n",
            "2        RF     4  0.496459\n",
            "Best Model: CatBoost\n",
            "Best F1-Score: 0.7333333333333333\n"
          ]
        }
      ]
    },
    {
      "cell_type": "code",
      "source": [
        "opt_df.to_csv(\"model_frequency_summary.csv\", index=False)\n",
        "with mlflow.start_run():\n",
        "\n",
        "    # Log the DataFrame CSV as an artifact\n",
        "    mlflow.log_artifact(\"/content/model_frequency_summary.csv\", artifact_path=\"tables\")"
      ],
      "metadata": {
        "colab": {
          "base_uri": "https://localhost:8080/"
        },
        "id": "XbEen08ET-wC",
        "outputId": "7b9aa9ad-b626-4d09-9801-d95006af6718"
      },
      "execution_count": 67,
      "outputs": [
        {
          "output_type": "stream",
          "name": "stdout",
          "text": [
            "🏃 View run intrigued-ant-414 at: https://dagshub.com/AbdurRahman22224/Predictive_Delivery_Optimizer.mlflow/#/experiments/1/runs/5d0eb6a9462e4016ba649e26455b08c5\n",
            "🧪 View experiment at: https://dagshub.com/AbdurRahman22224/Predictive_Delivery_Optimizer.mlflow/#/experiments/1\n"
          ]
        }
      ]
    }
  ]
}